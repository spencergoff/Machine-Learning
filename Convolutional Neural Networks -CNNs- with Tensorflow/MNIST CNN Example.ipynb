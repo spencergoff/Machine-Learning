{
 "cells": [
  {
   "cell_type": "code",
   "execution_count": 4,
   "metadata": {
    "collapsed": true
   },
   "outputs": [],
   "source": [
    "import tensorflow as tf"
   ]
  },
  {
   "cell_type": "code",
   "execution_count": 10,
   "metadata": {},
   "outputs": [],
   "source": [
    "from tensorflow.examples.tutorials.mnist import input_data"
   ]
  },
  {
   "cell_type": "code",
   "execution_count": 11,
   "metadata": {},
   "outputs": [
    {
     "name": "stdout",
     "output_type": "stream",
     "text": [
      "Extracting MNIST_data/train-images-idx3-ubyte.gz\n",
      "Extracting MNIST_data/train-labels-idx1-ubyte.gz\n",
      "Extracting MNIST_data/t10k-images-idx3-ubyte.gz\n",
      "Extracting MNIST_data/t10k-labels-idx1-ubyte.gz\n"
     ]
    }
   ],
   "source": [
    "mnist = input_data.read_data_sets(\"MNIST_data/\",one_hot=True)"
   ]
  },
  {
   "cell_type": "markdown",
   "metadata": {},
   "source": [
    "## Helping Functions\n",
    "\n",
    "\n",
    "\n"
   ]
  },
  {
   "cell_type": "code",
   "execution_count": 12,
   "metadata": {
    "collapsed": true
   },
   "outputs": [],
   "source": [
    "# initialize weights\n",
    "def init_weights(shape):\n",
    "    init_random_dist = tf.truncated_normal(shape=shape,stddev=0.1)\n",
    "    return tf.Variable(init_random_dist)"
   ]
  },
  {
   "cell_type": "code",
   "execution_count": 13,
   "metadata": {
    "collapsed": true
   },
   "outputs": [],
   "source": [
    "# initialize bias values\n",
    "def init_bias(shape):\n",
    "    init_bias_vals = tf.constant(value=0.1,shape=shape)\n",
    "    return tf.Variable(init_bias_vals)"
   ]
  },
  {
   "cell_type": "code",
   "execution_count": 14,
   "metadata": {
    "collapsed": true
   },
   "outputs": [],
   "source": [
    "# 2D Convolution; convenience function to override tf's built-in function of the same name\n",
    "def conv2d(x,w): \n",
    "    # x is input tensor with shape [batch,height H, width W, channels]\n",
    "    # w is the kernel with shape [filter H, filter W, Channels IN, Channels OUT]\n",
    "    return tf.nn.conv2d(input=x,filter=w,strides=[1,1,1,1],padding='SAME') #SAME means pad w/ 0's"
   ]
  },
  {
   "cell_type": "code",
   "execution_count": 15,
   "metadata": {
    "collapsed": true
   },
   "outputs": [],
   "source": [
    "# pooling; convenience function to override tf's built-in function of the same name\n",
    "def max_pool_2by2(x):\n",
    "    # x is [batch,h,w,c]; c is color channel\n",
    "    # ksize is size of window for each dimension of input tensor\n",
    "    # strides is stride of sliding window for each dimension of input tensor\n",
    "    return tf.nn.max_pool(x,ksize=[1,2,2,1],strides=[1,2,2,1],padding='SAME')"
   ]
  },
  {
   "cell_type": "markdown",
   "metadata": {},
   "source": [
    "## Create the Layers"
   ]
  },
  {
   "cell_type": "code",
   "execution_count": 16,
   "metadata": {
    "collapsed": true
   },
   "outputs": [],
   "source": [
    "# CONVOLUTIONAL LAYER\n",
    "def convolutional_layer(input_x,shape):\n",
    "    w = init_weights(shape)\n",
    "    b = init_bias([shape[3]])\n",
    "    return tf.nn.relu(conv2d(input_x,w)+b)"
   ]
  },
  {
   "cell_type": "code",
   "execution_count": 17,
   "metadata": {
    "collapsed": true
   },
   "outputs": [],
   "source": [
    "# NORMAL (FULLY CONNECTED) LAYER\n",
    "def normal_full_layer(input_layer,size):\n",
    "    input_size = int(input_layer.get_shape()[1])\n",
    "    w = init_weights(shape=[input_size,size])\n",
    "    b = init_bias([size])\n",
    "    return tf.matmul(input_layer,w) + b"
   ]
  },
  {
   "cell_type": "code",
   "execution_count": 18,
   "metadata": {
    "collapsed": true
   },
   "outputs": [],
   "source": [
    "#PLACEHOLDERS\n",
    "x = tf.placeholder(tf.float32,shape=[None,784]) #None will become the batch size\n",
    "y_true = tf.placeholder(tf.float32,shape=[None,10])"
   ]
  },
  {
   "cell_type": "code",
   "execution_count": 35,
   "metadata": {
    "collapsed": true
   },
   "outputs": [],
   "source": [
    "#LAYERS\n",
    "x_image = tf.reshape(tensor=x,shape=[-1,28,28,1]) #input; need to reshape flatened array into image\n",
    "\n",
    "convo_1 = convolutional_layer(input_x=x_image,shape=[5,5,1,32]) #batch size 5x5, 1 input channel for grayscale, 32 features (output channels)\n",
    "convo_1_pooling = max_pool_2by2(x=convo_1)\n",
    "\n",
    "convo_2 = convolutional_layer(input_x=convo_1_pooling,shape=[5,5,32,64]) #build a deep network by stacking several layers\n",
    "convo_2_pooling = max_pool_2by2(convo_2)\n",
    "\n",
    "convo_2_flat = tf.reshape(tensor=convo_2_pooling,shape=[-1,7*7*64])\n",
    "full_layer_one = tf.nn.relu(normal_full_layer(convo_2_flat,1024))"
   ]
  },
  {
   "cell_type": "code",
   "execution_count": 20,
   "metadata": {},
   "outputs": [],
   "source": [
    "#DROPOUT (during training, units & their connections are randomly dropped)\n",
    "hold_prob = tf.placeholder(tf.float32)\n",
    "full_one_dropout = tf.nn.dropout(x=full_layer_one,keep_prob=hold_prob)\n",
    "y_pred = normal_full_layer(input_layer=full_one_dropout,size=10)"
   ]
  },
  {
   "cell_type": "code",
   "execution_count": 23,
   "metadata": {},
   "outputs": [],
   "source": [
    "#LOSS FUNCTION\n",
    "cross_entropy = tf.reduce_mean(tf.nn.softmax_cross_entropy_with_logits(labels=y_true,logits=y_pred))"
   ]
  },
  {
   "cell_type": "code",
   "execution_count": 32,
   "metadata": {
    "collapsed": true
   },
   "outputs": [],
   "source": [
    "#OPTIMIZER\n",
    "optimizer = tf.train.AdamOptimizer(learning_rate=0.001) #higher LR = faster, but less accurate\n",
    "train = optimizer.minimize(cross_entropy)"
   ]
  },
  {
   "cell_type": "code",
   "execution_count": 33,
   "metadata": {
    "collapsed": true
   },
   "outputs": [],
   "source": [
    "init = tf.global_variables_initializer()"
   ]
  },
  {
   "cell_type": "code",
   "execution_count": 34,
   "metadata": {},
   "outputs": [
    {
     "name": "stdout",
     "output_type": "stream",
     "text": [
      "ON STEP: 0\n",
      "ACCURACY: \n",
      "0.111\n",
      "\n",
      "\n",
      "ON STEP: 100\n",
      "ACCURACY: \n",
      "0.9425\n",
      "\n",
      "\n",
      "ON STEP: 200\n",
      "ACCURACY: \n",
      "0.964\n",
      "\n",
      "\n",
      "ON STEP: 300\n",
      "ACCURACY: \n",
      "0.9708\n",
      "\n",
      "\n",
      "ON STEP: 400\n",
      "ACCURACY: \n",
      "0.976\n",
      "\n",
      "\n",
      "ON STEP: 500\n",
      "ACCURACY: \n",
      "0.9763\n",
      "\n",
      "\n",
      "ON STEP: 600\n",
      "ACCURACY: \n",
      "0.9777\n",
      "\n",
      "\n",
      "ON STEP: 700\n",
      "ACCURACY: \n",
      "0.9802\n",
      "\n",
      "\n",
      "ON STEP: 800\n",
      "ACCURACY: \n",
      "0.9799\n",
      "\n",
      "\n",
      "ON STEP: 900\n",
      "ACCURACY: \n",
      "0.985\n",
      "\n",
      "\n",
      "ON STEP: 1000\n",
      "ACCURACY: \n",
      "0.9806\n",
      "\n",
      "\n",
      "ON STEP: 1100\n",
      "ACCURACY: \n",
      "0.9877\n",
      "\n",
      "\n",
      "ON STEP: 1200\n",
      "ACCURACY: \n",
      "0.9849\n",
      "\n",
      "\n",
      "ON STEP: 1300\n",
      "ACCURACY: \n",
      "0.988\n",
      "\n",
      "\n",
      "ON STEP: 1400\n",
      "ACCURACY: \n",
      "0.9893\n",
      "\n",
      "\n",
      "ON STEP: 1500\n",
      "ACCURACY: \n",
      "0.9871\n",
      "\n",
      "\n",
      "ON STEP: 1600\n",
      "ACCURACY: \n",
      "0.9871\n",
      "\n",
      "\n",
      "ON STEP: 1700\n",
      "ACCURACY: \n",
      "0.9879\n",
      "\n",
      "\n",
      "ON STEP: 1800\n",
      "ACCURACY: \n",
      "0.9885\n",
      "\n",
      "\n",
      "ON STEP: 1900\n",
      "ACCURACY: \n",
      "0.986\n",
      "\n",
      "\n",
      "ON STEP: 2000\n",
      "ACCURACY: \n",
      "0.9887\n",
      "\n",
      "\n",
      "ON STEP: 2100\n",
      "ACCURACY: \n",
      "0.9889\n",
      "\n",
      "\n",
      "ON STEP: 2200\n",
      "ACCURACY: \n",
      "0.9896\n",
      "\n",
      "\n",
      "ON STEP: 2300\n",
      "ACCURACY: \n",
      "0.9887\n",
      "\n",
      "\n",
      "ON STEP: 2400\n",
      "ACCURACY: \n",
      "0.9904\n",
      "\n",
      "\n",
      "ON STEP: 2500\n",
      "ACCURACY: \n",
      "0.9901\n",
      "\n",
      "\n",
      "ON STEP: 2600\n",
      "ACCURACY: \n",
      "0.9886\n",
      "\n",
      "\n",
      "ON STEP: 2700\n",
      "ACCURACY: \n",
      "0.9877\n",
      "\n",
      "\n",
      "ON STEP: 2800\n",
      "ACCURACY: \n",
      "0.9903\n",
      "\n",
      "\n",
      "ON STEP: 2900\n",
      "ACCURACY: \n",
      "0.9886\n",
      "\n",
      "\n",
      "ON STEP: 3000\n",
      "ACCURACY: \n",
      "0.9862\n",
      "\n",
      "\n",
      "ON STEP: 3100\n",
      "ACCURACY: \n",
      "0.9898\n",
      "\n",
      "\n",
      "ON STEP: 3200\n",
      "ACCURACY: \n",
      "0.9895\n",
      "\n",
      "\n",
      "ON STEP: 3300\n",
      "ACCURACY: \n",
      "0.9895\n",
      "\n",
      "\n",
      "ON STEP: 3400\n",
      "ACCURACY: \n",
      "0.9904\n",
      "\n",
      "\n",
      "ON STEP: 3500\n",
      "ACCURACY: \n",
      "0.9897\n",
      "\n",
      "\n",
      "ON STEP: 3600\n",
      "ACCURACY: \n",
      "0.9916\n",
      "\n",
      "\n",
      "ON STEP: 3700\n",
      "ACCURACY: \n",
      "0.9882\n",
      "\n",
      "\n",
      "ON STEP: 3800\n",
      "ACCURACY: \n",
      "0.9911\n",
      "\n",
      "\n",
      "ON STEP: 3900\n",
      "ACCURACY: \n",
      "0.9907\n",
      "\n",
      "\n",
      "ON STEP: 4000\n",
      "ACCURACY: \n",
      "0.9909\n",
      "\n",
      "\n",
      "ON STEP: 4100\n",
      "ACCURACY: \n",
      "0.9904\n",
      "\n",
      "\n",
      "ON STEP: 4200\n",
      "ACCURACY: \n",
      "0.9903\n",
      "\n",
      "\n",
      "ON STEP: 4300\n",
      "ACCURACY: \n",
      "0.9916\n",
      "\n",
      "\n",
      "ON STEP: 4400\n",
      "ACCURACY: \n",
      "0.9897\n",
      "\n",
      "\n",
      "ON STEP: 4500\n",
      "ACCURACY: \n",
      "0.9913\n",
      "\n",
      "\n",
      "ON STEP: 4600\n",
      "ACCURACY: \n",
      "0.9911\n",
      "\n",
      "\n",
      "ON STEP: 4700\n",
      "ACCURACY: \n",
      "0.9919\n",
      "\n",
      "\n",
      "ON STEP: 4800\n",
      "ACCURACY: \n",
      "0.9921\n",
      "\n",
      "\n",
      "ON STEP: 4900\n",
      "ACCURACY: \n",
      "0.9893\n",
      "\n",
      "\n"
     ]
    }
   ],
   "source": [
    "steps = 5000\n",
    "with tf.Session() as sess:\n",
    "    sess.run(init)\n",
    "    for i in range(steps):\n",
    "        batch_x, batch_y = mnist.train.next_batch(50) #process 50 images at a time\n",
    "        sess.run(train,feed_dict={x:batch_x,y_true:batch_y,hold_prob:0.5}) #hold_prob is prob that a neuron won't be dropped \n",
    "        if i%100 == 0:\n",
    "            print('ON STEP: {}'.format(i))\n",
    "            print('ACCURACY: ')\n",
    "            matches = tf.equal(tf.argmax(y_pred,1),tf.argmax(y_true,1))\n",
    "            acc = tf.reduce_mean(tf.cast(matches,tf.float32)) #accuracy\n",
    "            print(sess.run(acc,feed_dict={x:mnist.test.images,y_true:mnist.test.labels,hold_prob:1.0})) #don't drop any neurons in test phase\n",
    "            print('\\n')"
   ]
  },
  {
   "cell_type": "code",
   "execution_count": null,
   "metadata": {
    "collapsed": true
   },
   "outputs": [],
   "source": []
  }
 ],
 "metadata": {
  "kernelspec": {
   "display_name": "Python 3",
   "language": "python",
   "name": "python3"
  },
  "language_info": {
   "codemirror_mode": {
    "name": "ipython",
    "version": 3
   },
   "file_extension": ".py",
   "mimetype": "text/x-python",
   "name": "python",
   "nbconvert_exporter": "python",
   "pygments_lexer": "ipython3",
   "version": "3.6.3"
  }
 },
 "nbformat": 4,
 "nbformat_minor": 2
}
