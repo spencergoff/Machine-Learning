{
 "cells": [
  {
   "cell_type": "code",
   "execution_count": 2,
   "metadata": {},
   "outputs": [],
   "source": [
    "from sklearn.datasets import load_wine"
   ]
  },
  {
   "cell_type": "code",
   "execution_count": 3,
   "metadata": {
    "collapsed": true
   },
   "outputs": [],
   "source": [
    "wine_data = load_wine()"
   ]
  },
  {
   "cell_type": "code",
   "execution_count": 4,
   "metadata": {},
   "outputs": [
    {
     "data": {
      "text/plain": [
       "sklearn.utils.Bunch"
      ]
     },
     "execution_count": 4,
     "metadata": {},
     "output_type": "execute_result"
    }
   ],
   "source": [
    "type(wine_data)"
   ]
  },
  {
   "cell_type": "code",
   "execution_count": 5,
   "metadata": {},
   "outputs": [
    {
     "data": {
      "text/plain": [
       "dict_keys(['data', 'target', 'target_names', 'DESCR', 'feature_names'])"
      ]
     },
     "execution_count": 5,
     "metadata": {},
     "output_type": "execute_result"
    }
   ],
   "source": [
    "wine_data.keys()"
   ]
  },
  {
   "cell_type": "code",
   "execution_count": 6,
   "metadata": {},
   "outputs": [
    {
     "name": "stdout",
     "output_type": "stream",
     "text": [
      "Wine Data Database\n",
      "====================\n",
      "\n",
      "Notes\n",
      "-----\n",
      "Data Set Characteristics:\n",
      "    :Number of Instances: 178 (50 in each of three classes)\n",
      "    :Number of Attributes: 13 numeric, predictive attributes and the class\n",
      "    :Attribute Information:\n",
      " \t\t- 1) Alcohol\n",
      " \t\t- 2) Malic acid\n",
      " \t\t- 3) Ash\n",
      "\t\t- 4) Alcalinity of ash  \n",
      " \t\t- 5) Magnesium\n",
      "\t\t- 6) Total phenols\n",
      " \t\t- 7) Flavanoids\n",
      " \t\t- 8) Nonflavanoid phenols\n",
      " \t\t- 9) Proanthocyanins\n",
      "\t\t- 10)Color intensity\n",
      " \t\t- 11)Hue\n",
      " \t\t- 12)OD280/OD315 of diluted wines\n",
      " \t\t- 13)Proline\n",
      "        \t- class:\n",
      "                - class_0\n",
      "                - class_1\n",
      "                - class_2\n",
      "\t\t\n",
      "    :Summary Statistics:\n",
      "    \n",
      "    ============================= ==== ===== ======= =====\n",
      "                                   Min   Max   Mean     SD\n",
      "    ============================= ==== ===== ======= =====\n",
      "    Alcohol:                      11.0  14.8    13.0   0.8\n",
      "    Malic Acid:                   0.74  5.80    2.34  1.12\n",
      "    Ash:                          1.36  3.23    2.36  0.27\n",
      "    Alcalinity of Ash:            10.6  30.0    19.5   3.3\n",
      "    Magnesium:                    70.0 162.0    99.7  14.3\n",
      "    Total Phenols:                0.98  3.88    2.29  0.63\n",
      "    Flavanoids:                   0.34  5.08    2.03  1.00\n",
      "    Nonflavanoid Phenols:         0.13  0.66    0.36  0.12\n",
      "    Proanthocyanins:              0.41  3.58    1.59  0.57\n",
      "    Colour Intensity:              1.3  13.0     5.1   2.3\n",
      "    Hue:                          0.48  1.71    0.96  0.23\n",
      "    OD280/OD315 of diluted wines: 1.27  4.00    2.61  0.71\n",
      "    Proline:                       278  1680     746   315\n",
      "    ============================= ==== ===== ======= =====\n",
      "\n",
      "    :Missing Attribute Values: None\n",
      "    :Class Distribution: class_0 (59), class_1 (71), class_2 (48)\n",
      "    :Creator: R.A. Fisher\n",
      "    :Donor: Michael Marshall (MARSHALL%PLU@io.arc.nasa.gov)\n",
      "    :Date: July, 1988\n",
      "\n",
      "This is a copy of UCI ML Wine recognition datasets.\n",
      "https://archive.ics.uci.edu/ml/machine-learning-databases/wine/wine.data\n",
      "\n",
      "The data is the results of a chemical analysis of wines grown in the same\n",
      "region in Italy by three different cultivators. There are thirteen different\n",
      "measurements taken for different constituents found in the three types of\n",
      "wine.\n",
      "\n",
      "Original Owners: \n",
      "\n",
      "Forina, M. et al, PARVUS - \n",
      "An Extendible Package for Data Exploration, Classification and Correlation. \n",
      "Institute of Pharmaceutical and Food Analysis and Technologies,\n",
      "Via Brigata Salerno, 16147 Genoa, Italy.\n",
      "\n",
      "Citation:\n",
      "\n",
      "Lichman, M. (2013). UCI Machine Learning Repository\n",
      "[http://archive.ics.uci.edu/ml]. Irvine, CA: University of California,\n",
      "School of Information and Computer Science. \n",
      "\n",
      "References\n",
      "----------\n",
      "(1) \n",
      "S. Aeberhard, D. Coomans and O. de Vel, \n",
      "Comparison of Classifiers in High Dimensional Settings, \n",
      "Tech. Rep. no. 92-02, (1992), Dept. of Computer Science and Dept. of \n",
      "Mathematics and Statistics, James Cook University of North Queensland. \n",
      "(Also submitted to Technometrics). \n",
      "\n",
      "The data was used with many others for comparing various \n",
      "classifiers. The classes are separable, though only RDA \n",
      "has achieved 100% correct classification. \n",
      "(RDA : 100%, QDA 99.4%, LDA 98.9%, 1NN 96.1% (z-transformed data)) \n",
      "(All results using the leave-one-out technique) \n",
      "\n",
      "(2) \n",
      "S. Aeberhard, D. Coomans and O. de Vel, \n",
      "\"THE CLASSIFICATION PERFORMANCE OF RDA\" \n",
      "Tech. Rep. no. 92-01, (1992), Dept. of Computer Science and Dept. of \n",
      "Mathematics and Statistics, James Cook University of North Queensland. \n",
      "(Also submitted to Journal of Chemometrics). \n",
      "\n"
     ]
    }
   ],
   "source": [
    "print(wine_data['DESCR'])"
   ]
  },
  {
   "cell_type": "code",
   "execution_count": 8,
   "metadata": {
    "collapsed": true
   },
   "outputs": [],
   "source": [
    "feat_data = wine_data['data']"
   ]
  },
  {
   "cell_type": "code",
   "execution_count": 13,
   "metadata": {},
   "outputs": [
    {
     "data": {
      "text/plain": [
       "array([[  1.42300000e+01,   1.71000000e+00,   2.43000000e+00, ...,\n",
       "          1.04000000e+00,   3.92000000e+00,   1.06500000e+03],\n",
       "       [  1.32000000e+01,   1.78000000e+00,   2.14000000e+00, ...,\n",
       "          1.05000000e+00,   3.40000000e+00,   1.05000000e+03],\n",
       "       [  1.31600000e+01,   2.36000000e+00,   2.67000000e+00, ...,\n",
       "          1.03000000e+00,   3.17000000e+00,   1.18500000e+03],\n",
       "       ..., \n",
       "       [  1.32700000e+01,   4.28000000e+00,   2.26000000e+00, ...,\n",
       "          5.90000000e-01,   1.56000000e+00,   8.35000000e+02],\n",
       "       [  1.31700000e+01,   2.59000000e+00,   2.37000000e+00, ...,\n",
       "          6.00000000e-01,   1.62000000e+00,   8.40000000e+02],\n",
       "       [  1.41300000e+01,   4.10000000e+00,   2.74000000e+00, ...,\n",
       "          6.10000000e-01,   1.60000000e+00,   5.60000000e+02]])"
      ]
     },
     "execution_count": 13,
     "metadata": {},
     "output_type": "execute_result"
    }
   ],
   "source": [
    "feat_data"
   ]
  },
  {
   "cell_type": "code",
   "execution_count": 15,
   "metadata": {
    "collapsed": true
   },
   "outputs": [],
   "source": [
    "labels = wine_data['target']"
   ]
  },
  {
   "cell_type": "code",
   "execution_count": 16,
   "metadata": {},
   "outputs": [
    {
     "data": {
      "text/plain": [
       "array([0, 0, 0, 0, 0, 0, 0, 0, 0, 0, 0, 0, 0, 0, 0, 0, 0, 0, 0, 0, 0, 0, 0,\n",
       "       0, 0, 0, 0, 0, 0, 0, 0, 0, 0, 0, 0, 0, 0, 0, 0, 0, 0, 0, 0, 0, 0, 0,\n",
       "       0, 0, 0, 0, 0, 0, 0, 0, 0, 0, 0, 0, 0, 1, 1, 1, 1, 1, 1, 1, 1, 1, 1,\n",
       "       1, 1, 1, 1, 1, 1, 1, 1, 1, 1, 1, 1, 1, 1, 1, 1, 1, 1, 1, 1, 1, 1, 1,\n",
       "       1, 1, 1, 1, 1, 1, 1, 1, 1, 1, 1, 1, 1, 1, 1, 1, 1, 1, 1, 1, 1, 1, 1,\n",
       "       1, 1, 1, 1, 1, 1, 1, 1, 1, 1, 1, 1, 1, 1, 1, 2, 2, 2, 2, 2, 2, 2, 2,\n",
       "       2, 2, 2, 2, 2, 2, 2, 2, 2, 2, 2, 2, 2, 2, 2, 2, 2, 2, 2, 2, 2, 2, 2,\n",
       "       2, 2, 2, 2, 2, 2, 2, 2, 2, 2, 2, 2, 2, 2, 2, 2, 2])"
      ]
     },
     "execution_count": 16,
     "metadata": {},
     "output_type": "execute_result"
    }
   ],
   "source": [
    "labels"
   ]
  },
  {
   "cell_type": "code",
   "execution_count": 14,
   "metadata": {
    "collapsed": true
   },
   "outputs": [],
   "source": [
    "from sklearn.model_selection import train_test_split"
   ]
  },
  {
   "cell_type": "code",
   "execution_count": 27,
   "metadata": {},
   "outputs": [
    {
     "data": {
      "text/plain": [
       "[array([[  1.30500000e+01,   3.86000000e+00,   2.32000000e+00, ...,\n",
       "           8.40000000e-01,   2.01000000e+00,   5.15000000e+02],\n",
       "        [  1.30700000e+01,   1.50000000e+00,   2.10000000e+00, ...,\n",
       "           1.18000000e+00,   2.69000000e+00,   1.02000000e+03],\n",
       "        [  1.23700000e+01,   1.17000000e+00,   1.92000000e+00, ...,\n",
       "           1.12000000e+00,   3.48000000e+00,   5.10000000e+02],\n",
       "        ..., \n",
       "        [  1.27700000e+01,   2.39000000e+00,   2.28000000e+00, ...,\n",
       "           5.70000000e-01,   1.63000000e+00,   4.70000000e+02],\n",
       "        [  1.34100000e+01,   3.84000000e+00,   2.12000000e+00, ...,\n",
       "           9.10000000e-01,   3.00000000e+00,   1.03500000e+03],\n",
       "        [  1.16100000e+01,   1.35000000e+00,   2.70000000e+00, ...,\n",
       "           9.60000000e-01,   3.26000000e+00,   6.80000000e+02]]),\n",
       " array([[  1.23300000e+01,   9.90000000e-01,   1.95000000e+00,\n",
       "           1.48000000e+01,   1.36000000e+02,   1.90000000e+00,\n",
       "           1.85000000e+00,   3.50000000e-01,   2.76000000e+00,\n",
       "           3.40000000e+00,   1.06000000e+00,   2.31000000e+00,\n",
       "           7.50000000e+02],\n",
       "        [  1.25200000e+01,   2.43000000e+00,   2.17000000e+00,\n",
       "           2.10000000e+01,   8.80000000e+01,   2.55000000e+00,\n",
       "           2.27000000e+00,   2.60000000e-01,   1.22000000e+00,\n",
       "           2.00000000e+00,   9.00000000e-01,   2.78000000e+00,\n",
       "           3.25000000e+02],\n",
       "        [  1.28100000e+01,   2.31000000e+00,   2.40000000e+00,\n",
       "           2.40000000e+01,   9.80000000e+01,   1.15000000e+00,\n",
       "           1.09000000e+00,   2.70000000e-01,   8.30000000e-01,\n",
       "           5.70000000e+00,   6.60000000e-01,   1.36000000e+00,\n",
       "           5.60000000e+02],\n",
       "        [  1.37200000e+01,   1.43000000e+00,   2.50000000e+00,\n",
       "           1.67000000e+01,   1.08000000e+02,   3.40000000e+00,\n",
       "           3.67000000e+00,   1.90000000e-01,   2.04000000e+00,\n",
       "           6.80000000e+00,   8.90000000e-01,   2.87000000e+00,\n",
       "           1.28500000e+03],\n",
       "        [  1.23700000e+01,   1.21000000e+00,   2.56000000e+00,\n",
       "           1.81000000e+01,   9.80000000e+01,   2.42000000e+00,\n",
       "           2.65000000e+00,   3.70000000e-01,   2.08000000e+00,\n",
       "           4.60000000e+00,   1.19000000e+00,   2.30000000e+00,\n",
       "           6.78000000e+02],\n",
       "        [  1.22000000e+01,   3.03000000e+00,   2.32000000e+00,\n",
       "           1.90000000e+01,   9.60000000e+01,   1.25000000e+00,\n",
       "           4.90000000e-01,   4.00000000e-01,   7.30000000e-01,\n",
       "           5.50000000e+00,   6.60000000e-01,   1.83000000e+00,\n",
       "           5.10000000e+02],\n",
       "        [  1.35600000e+01,   1.73000000e+00,   2.46000000e+00,\n",
       "           2.05000000e+01,   1.16000000e+02,   2.96000000e+00,\n",
       "           2.78000000e+00,   2.00000000e-01,   2.45000000e+00,\n",
       "           6.25000000e+00,   9.80000000e-01,   3.03000000e+00,\n",
       "           1.12000000e+03],\n",
       "        [  1.16500000e+01,   1.67000000e+00,   2.62000000e+00,\n",
       "           2.60000000e+01,   8.80000000e+01,   1.92000000e+00,\n",
       "           1.61000000e+00,   4.00000000e-01,   1.34000000e+00,\n",
       "           2.60000000e+00,   1.36000000e+00,   3.21000000e+00,\n",
       "           5.62000000e+02],\n",
       "        [  1.47500000e+01,   1.73000000e+00,   2.39000000e+00,\n",
       "           1.14000000e+01,   9.10000000e+01,   3.10000000e+00,\n",
       "           3.69000000e+00,   4.30000000e-01,   2.81000000e+00,\n",
       "           5.40000000e+00,   1.25000000e+00,   2.73000000e+00,\n",
       "           1.15000000e+03],\n",
       "        [  1.18700000e+01,   4.31000000e+00,   2.39000000e+00,\n",
       "           2.10000000e+01,   8.20000000e+01,   2.86000000e+00,\n",
       "           3.03000000e+00,   2.10000000e-01,   2.91000000e+00,\n",
       "           2.80000000e+00,   7.50000000e-01,   3.64000000e+00,\n",
       "           3.80000000e+02],\n",
       "        [  1.43800000e+01,   1.87000000e+00,   2.38000000e+00,\n",
       "           1.20000000e+01,   1.02000000e+02,   3.30000000e+00,\n",
       "           3.64000000e+00,   2.90000000e-01,   2.96000000e+00,\n",
       "           7.50000000e+00,   1.20000000e+00,   3.00000000e+00,\n",
       "           1.54700000e+03],\n",
       "        [  1.33200000e+01,   3.24000000e+00,   2.38000000e+00,\n",
       "           2.15000000e+01,   9.20000000e+01,   1.93000000e+00,\n",
       "           7.60000000e-01,   4.50000000e-01,   1.25000000e+00,\n",
       "           8.42000000e+00,   5.50000000e-01,   1.62000000e+00,\n",
       "           6.50000000e+02],\n",
       "        [  1.36800000e+01,   1.83000000e+00,   2.36000000e+00,\n",
       "           1.72000000e+01,   1.04000000e+02,   2.42000000e+00,\n",
       "           2.69000000e+00,   4.20000000e-01,   1.97000000e+00,\n",
       "           3.84000000e+00,   1.23000000e+00,   2.87000000e+00,\n",
       "           9.90000000e+02],\n",
       "        [  1.32300000e+01,   3.30000000e+00,   2.28000000e+00,\n",
       "           1.85000000e+01,   9.80000000e+01,   1.80000000e+00,\n",
       "           8.30000000e-01,   6.10000000e-01,   1.87000000e+00,\n",
       "           1.05200000e+01,   5.60000000e-01,   1.51000000e+00,\n",
       "           6.75000000e+02],\n",
       "        [  1.23700000e+01,   1.07000000e+00,   2.10000000e+00,\n",
       "           1.85000000e+01,   8.80000000e+01,   3.52000000e+00,\n",
       "           3.75000000e+00,   2.40000000e-01,   1.95000000e+00,\n",
       "           4.50000000e+00,   1.04000000e+00,   2.77000000e+00,\n",
       "           6.60000000e+02],\n",
       "        [  1.29300000e+01,   2.81000000e+00,   2.70000000e+00,\n",
       "           2.10000000e+01,   9.60000000e+01,   1.54000000e+00,\n",
       "           5.00000000e-01,   5.30000000e-01,   7.50000000e-01,\n",
       "           4.60000000e+00,   7.70000000e-01,   2.31000000e+00,\n",
       "           6.00000000e+02],\n",
       "        [  1.37100000e+01,   5.65000000e+00,   2.45000000e+00,\n",
       "           2.05000000e+01,   9.50000000e+01,   1.68000000e+00,\n",
       "           6.10000000e-01,   5.20000000e-01,   1.06000000e+00,\n",
       "           7.70000000e+00,   6.40000000e-01,   1.74000000e+00,\n",
       "           7.40000000e+02],\n",
       "        [  1.27900000e+01,   2.67000000e+00,   2.48000000e+00,\n",
       "           2.20000000e+01,   1.12000000e+02,   1.48000000e+00,\n",
       "           1.36000000e+00,   2.40000000e-01,   1.26000000e+00,\n",
       "           1.08000000e+01,   4.80000000e-01,   1.47000000e+00,\n",
       "           4.80000000e+02],\n",
       "        [  1.25100000e+01,   1.24000000e+00,   2.25000000e+00,\n",
       "           1.75000000e+01,   8.50000000e+01,   2.00000000e+00,\n",
       "           5.80000000e-01,   6.00000000e-01,   1.25000000e+00,\n",
       "           5.45000000e+00,   7.50000000e-01,   1.51000000e+00,\n",
       "           6.50000000e+02],\n",
       "        [  1.42200000e+01,   1.70000000e+00,   2.30000000e+00,\n",
       "           1.63000000e+01,   1.18000000e+02,   3.20000000e+00,\n",
       "           3.00000000e+00,   2.60000000e-01,   2.03000000e+00,\n",
       "           6.38000000e+00,   9.40000000e-01,   3.31000000e+00,\n",
       "           9.70000000e+02],\n",
       "        [  1.38700000e+01,   1.90000000e+00,   2.80000000e+00,\n",
       "           1.94000000e+01,   1.07000000e+02,   2.95000000e+00,\n",
       "           2.97000000e+00,   3.70000000e-01,   1.76000000e+00,\n",
       "           4.50000000e+00,   1.25000000e+00,   3.40000000e+00,\n",
       "           9.15000000e+02],\n",
       "        [  1.20400000e+01,   4.30000000e+00,   2.38000000e+00,\n",
       "           2.20000000e+01,   8.00000000e+01,   2.10000000e+00,\n",
       "           1.75000000e+00,   4.20000000e-01,   1.35000000e+00,\n",
       "           2.60000000e+00,   7.90000000e-01,   2.57000000e+00,\n",
       "           5.80000000e+02],\n",
       "        [  1.24200000e+01,   4.43000000e+00,   2.73000000e+00,\n",
       "           2.65000000e+01,   1.02000000e+02,   2.20000000e+00,\n",
       "           2.13000000e+00,   4.30000000e-01,   1.71000000e+00,\n",
       "           2.08000000e+00,   9.20000000e-01,   3.12000000e+00,\n",
       "           3.65000000e+02],\n",
       "        [  1.18100000e+01,   2.12000000e+00,   2.74000000e+00,\n",
       "           2.15000000e+01,   1.34000000e+02,   1.60000000e+00,\n",
       "           9.90000000e-01,   1.40000000e-01,   1.56000000e+00,\n",
       "           2.50000000e+00,   9.50000000e-01,   2.26000000e+00,\n",
       "           6.25000000e+02],\n",
       "        [  1.30500000e+01,   1.77000000e+00,   2.10000000e+00,\n",
       "           1.70000000e+01,   1.07000000e+02,   3.00000000e+00,\n",
       "           3.00000000e+00,   2.80000000e-01,   2.03000000e+00,\n",
       "           5.04000000e+00,   8.80000000e-01,   3.35000000e+00,\n",
       "           8.85000000e+02],\n",
       "        [  1.28500000e+01,   1.60000000e+00,   2.52000000e+00,\n",
       "           1.78000000e+01,   9.50000000e+01,   2.48000000e+00,\n",
       "           2.37000000e+00,   2.60000000e-01,   1.46000000e+00,\n",
       "           3.93000000e+00,   1.09000000e+00,   3.63000000e+00,\n",
       "           1.01500000e+03],\n",
       "        [  1.31700000e+01,   2.59000000e+00,   2.37000000e+00,\n",
       "           2.00000000e+01,   1.20000000e+02,   1.65000000e+00,\n",
       "           6.80000000e-01,   5.30000000e-01,   1.46000000e+00,\n",
       "           9.30000000e+00,   6.00000000e-01,   1.62000000e+00,\n",
       "           8.40000000e+02],\n",
       "        [  1.18400000e+01,   2.89000000e+00,   2.23000000e+00,\n",
       "           1.80000000e+01,   1.12000000e+02,   1.72000000e+00,\n",
       "           1.32000000e+00,   4.30000000e-01,   9.50000000e-01,\n",
       "           2.65000000e+00,   9.60000000e-01,   2.52000000e+00,\n",
       "           5.00000000e+02],\n",
       "        [  1.43000000e+01,   1.92000000e+00,   2.72000000e+00,\n",
       "           2.00000000e+01,   1.20000000e+02,   2.80000000e+00,\n",
       "           3.14000000e+00,   3.30000000e-01,   1.97000000e+00,\n",
       "           6.20000000e+00,   1.07000000e+00,   2.65000000e+00,\n",
       "           1.28000000e+03],\n",
       "        [  1.16400000e+01,   2.06000000e+00,   2.46000000e+00,\n",
       "           2.16000000e+01,   8.40000000e+01,   1.95000000e+00,\n",
       "           1.69000000e+00,   4.80000000e-01,   1.35000000e+00,\n",
       "           2.80000000e+00,   1.00000000e+00,   2.75000000e+00,\n",
       "           6.80000000e+02],\n",
       "        [  1.27000000e+01,   3.55000000e+00,   2.36000000e+00,\n",
       "           2.15000000e+01,   1.06000000e+02,   1.70000000e+00,\n",
       "           1.20000000e+00,   1.70000000e-01,   8.40000000e-01,\n",
       "           5.00000000e+00,   7.80000000e-01,   1.29000000e+00,\n",
       "           6.00000000e+02],\n",
       "        [  1.27200000e+01,   1.75000000e+00,   2.28000000e+00,\n",
       "           2.25000000e+01,   8.40000000e+01,   1.38000000e+00,\n",
       "           1.76000000e+00,   4.80000000e-01,   1.63000000e+00,\n",
       "           3.30000000e+00,   8.80000000e-01,   2.42000000e+00,\n",
       "           4.88000000e+02],\n",
       "        [  1.41900000e+01,   1.59000000e+00,   2.48000000e+00,\n",
       "           1.65000000e+01,   1.08000000e+02,   3.30000000e+00,\n",
       "           3.93000000e+00,   3.20000000e-01,   1.86000000e+00,\n",
       "           8.70000000e+00,   1.23000000e+00,   2.82000000e+00,\n",
       "           1.68000000e+03],\n",
       "        [  1.31100000e+01,   1.01000000e+00,   1.70000000e+00,\n",
       "           1.50000000e+01,   7.80000000e+01,   2.98000000e+00,\n",
       "           3.18000000e+00,   2.60000000e-01,   2.28000000e+00,\n",
       "           5.30000000e+00,   1.12000000e+00,   3.18000000e+00,\n",
       "           5.02000000e+02],\n",
       "        [  1.41000000e+01,   2.02000000e+00,   2.40000000e+00,\n",
       "           1.88000000e+01,   1.03000000e+02,   2.75000000e+00,\n",
       "           2.92000000e+00,   3.20000000e-01,   2.38000000e+00,\n",
       "           6.20000000e+00,   1.07000000e+00,   2.75000000e+00,\n",
       "           1.06000000e+03],\n",
       "        [  1.43700000e+01,   1.95000000e+00,   2.50000000e+00,\n",
       "           1.68000000e+01,   1.13000000e+02,   3.85000000e+00,\n",
       "           3.49000000e+00,   2.40000000e-01,   2.18000000e+00,\n",
       "           7.80000000e+00,   8.60000000e-01,   3.45000000e+00,\n",
       "           1.48000000e+03],\n",
       "        [  1.42100000e+01,   4.04000000e+00,   2.44000000e+00,\n",
       "           1.89000000e+01,   1.11000000e+02,   2.85000000e+00,\n",
       "           2.65000000e+00,   3.00000000e-01,   1.25000000e+00,\n",
       "           5.24000000e+00,   8.70000000e-01,   3.33000000e+00,\n",
       "           1.08000000e+03],\n",
       "        [  1.30800000e+01,   3.90000000e+00,   2.36000000e+00,\n",
       "           2.15000000e+01,   1.13000000e+02,   1.41000000e+00,\n",
       "           1.39000000e+00,   3.40000000e-01,   1.14000000e+00,\n",
       "           9.40000000e+00,   5.70000000e-01,   1.33000000e+00,\n",
       "           5.50000000e+02],\n",
       "        [  1.16600000e+01,   1.88000000e+00,   1.92000000e+00,\n",
       "           1.60000000e+01,   9.70000000e+01,   1.61000000e+00,\n",
       "           1.57000000e+00,   3.40000000e-01,   1.15000000e+00,\n",
       "           3.80000000e+00,   1.23000000e+00,   2.14000000e+00,\n",
       "           4.28000000e+02],\n",
       "        [  1.18200000e+01,   1.72000000e+00,   1.88000000e+00,\n",
       "           1.95000000e+01,   8.60000000e+01,   2.50000000e+00,\n",
       "           1.64000000e+00,   3.70000000e-01,   1.42000000e+00,\n",
       "           2.06000000e+00,   9.40000000e-01,   2.44000000e+00,\n",
       "           4.15000000e+02],\n",
       "        [  1.33900000e+01,   1.77000000e+00,   2.62000000e+00,\n",
       "           1.61000000e+01,   9.30000000e+01,   2.85000000e+00,\n",
       "           2.94000000e+00,   3.40000000e-01,   1.45000000e+00,\n",
       "           4.80000000e+00,   9.20000000e-01,   3.22000000e+00,\n",
       "           1.19500000e+03],\n",
       "        [  1.27700000e+01,   3.43000000e+00,   1.98000000e+00,\n",
       "           1.60000000e+01,   8.00000000e+01,   1.63000000e+00,\n",
       "           1.25000000e+00,   4.30000000e-01,   8.30000000e-01,\n",
       "           3.40000000e+00,   7.00000000e-01,   2.12000000e+00,\n",
       "           3.72000000e+02],\n",
       "        [  1.30500000e+01,   1.65000000e+00,   2.55000000e+00,\n",
       "           1.80000000e+01,   9.80000000e+01,   2.45000000e+00,\n",
       "           2.43000000e+00,   2.90000000e-01,   1.44000000e+00,\n",
       "           4.25000000e+00,   1.12000000e+00,   2.51000000e+00,\n",
       "           1.10500000e+03],\n",
       "        [  1.14500000e+01,   2.40000000e+00,   2.42000000e+00,\n",
       "           2.00000000e+01,   9.60000000e+01,   2.90000000e+00,\n",
       "           2.79000000e+00,   3.20000000e-01,   1.83000000e+00,\n",
       "           3.25000000e+00,   8.00000000e-01,   3.39000000e+00,\n",
       "           6.25000000e+02],\n",
       "        [  1.34000000e+01,   4.60000000e+00,   2.86000000e+00,\n",
       "           2.50000000e+01,   1.12000000e+02,   1.98000000e+00,\n",
       "           9.60000000e-01,   2.70000000e-01,   1.11000000e+00,\n",
       "           8.50000000e+00,   6.70000000e-01,   1.92000000e+00,\n",
       "           6.30000000e+02]]),\n",
       " array([1, 0, 1, 1, 2, 2, 2, 1, 1, 1, 0, 2, 0, 1, 1, 1, 2, 2, 0, 2, 2, 2, 0,\n",
       "        1, 0, 0, 1, 2, 0, 0, 2, 0, 2, 1, 1, 1, 1, 1, 1, 1, 0, 1, 2, 0, 0, 0,\n",
       "        2, 1, 1, 2, 1, 1, 1, 1, 2, 1, 1, 2, 2, 1, 0, 2, 2, 1, 0, 2, 1, 1, 1,\n",
       "        1, 2, 2, 0, 2, 1, 1, 0, 1, 1, 2, 0, 0, 2, 1, 1, 2, 0, 0, 0, 1, 0, 2,\n",
       "        2, 0, 0, 0, 1, 1, 1, 1, 2, 0, 2, 0, 0, 2, 0, 0, 0, 0, 1, 0, 0, 0, 2,\n",
       "        1, 1, 1, 0, 0, 1, 1, 0, 1, 2, 1, 0, 1, 0, 2, 2, 0, 1]),\n",
       " array([1, 1, 2, 0, 1, 2, 0, 1, 0, 1, 0, 2, 0, 2, 1, 2, 2, 2, 2, 0, 0, 1, 1,\n",
       "        1, 0, 0, 2, 1, 0, 1, 2, 1, 0, 1, 0, 0, 0, 2, 1, 1, 0, 1, 0, 1, 2])]"
      ]
     },
     "execution_count": 27,
     "metadata": {},
     "output_type": "execute_result"
    }
   ],
   "source": [
    "train_test_split(feat_data,labels)"
   ]
  },
  {
   "cell_type": "code",
   "execution_count": 20,
   "metadata": {
    "collapsed": true
   },
   "outputs": [],
   "source": [
    "x_train, x_test, y_train, y_test = train_test_split(feat_data,labels,test_size=0.3,random_state=101)"
   ]
  },
  {
   "cell_type": "code",
   "execution_count": 17,
   "metadata": {
    "collapsed": true
   },
   "outputs": [],
   "source": [
    "from sklearn.preprocessing import MinMaxScaler"
   ]
  },
  {
   "cell_type": "code",
   "execution_count": 18,
   "metadata": {
    "collapsed": true
   },
   "outputs": [],
   "source": [
    "scaler = MinMaxScaler()"
   ]
  },
  {
   "cell_type": "code",
   "execution_count": 22,
   "metadata": {},
   "outputs": [],
   "source": [
    "scaled_x_train = scaler.fit_transform(x_train)"
   ]
  },
  {
   "cell_type": "code",
   "execution_count": 26,
   "metadata": {
    "collapsed": true
   },
   "outputs": [],
   "source": [
    "scaled_x_test = scaler.transform(x_test) #don't fit since we don't know what the test data will be"
   ]
  },
  {
   "cell_type": "code",
   "execution_count": 28,
   "metadata": {
    "collapsed": true
   },
   "outputs": [],
   "source": [
    "import tensorflow as tf"
   ]
  },
  {
   "cell_type": "code",
   "execution_count": 29,
   "metadata": {
    "collapsed": true
   },
   "outputs": [],
   "source": [
    "from tensorflow import estimator"
   ]
  },
  {
   "cell_type": "code",
   "execution_count": 31,
   "metadata": {},
   "outputs": [
    {
     "data": {
      "text/plain": [
       "(124, 13)"
      ]
     },
     "execution_count": 31,
     "metadata": {},
     "output_type": "execute_result"
    }
   ],
   "source": [
    "x_train.shape"
   ]
  },
  {
   "cell_type": "code",
   "execution_count": 32,
   "metadata": {
    "collapsed": true
   },
   "outputs": [],
   "source": [
    "feat_cols = [tf.feature_column.numeric_column('x',shape=[13])]"
   ]
  },
  {
   "cell_type": "code",
   "execution_count": 33,
   "metadata": {},
   "outputs": [
    {
     "name": "stdout",
     "output_type": "stream",
     "text": [
      "INFO:tensorflow:Using default config.\n",
      "WARNING:tensorflow:Using temporary folder as model directory: /var/folders/yh/ftwq6yz50j970hfx8k08g4880000gn/T/tmp0nu470az\n",
      "INFO:tensorflow:Using config: {'_model_dir': '/var/folders/yh/ftwq6yz50j970hfx8k08g4880000gn/T/tmp0nu470az', '_tf_random_seed': 1, '_save_summary_steps': 100, '_save_checkpoints_secs': 600, '_save_checkpoints_steps': None, '_session_config': None, '_keep_checkpoint_max': 5, '_keep_checkpoint_every_n_hours': 10000, '_log_step_count_steps': 100}\n"
     ]
    }
   ],
   "source": [
    "deep_model = estimator.DNNClassifier(hidden_units=[13,13,13],feature_columns=feat_cols,n_classes=3,\n",
    "                                     optimizer=tf.train.GradientDescentOptimizer(learning_rate=0.01))"
   ]
  },
  {
   "cell_type": "code",
   "execution_count": 34,
   "metadata": {
    "collapsed": true
   },
   "outputs": [],
   "source": [
    "input_fn = estimator.inputs.numpy_input_fn(x={'x':scaled_x_train},y=y_train,shuffle=True,batch_size=10,\n",
    "                                          num_epochs=5)"
   ]
  },
  {
   "cell_type": "code",
   "execution_count": 35,
   "metadata": {},
   "outputs": [
    {
     "name": "stdout",
     "output_type": "stream",
     "text": [
      "INFO:tensorflow:Create CheckpointSaverHook.\n",
      "INFO:tensorflow:Saving checkpoints for 1 into /var/folders/yh/ftwq6yz50j970hfx8k08g4880000gn/T/tmp0nu470az/model.ckpt.\n",
      "INFO:tensorflow:loss = 10.8091, step = 1\n",
      "INFO:tensorflow:Saving checkpoints for 62 into /var/folders/yh/ftwq6yz50j970hfx8k08g4880000gn/T/tmp0nu470az/model.ckpt.\n",
      "INFO:tensorflow:Loss for final step: 2.78032.\n"
     ]
    },
    {
     "data": {
      "text/plain": [
       "<tensorflow.python.estimator.canned.dnn.DNNClassifier at 0x1a1ff2cd68>"
      ]
     },
     "execution_count": 35,
     "metadata": {},
     "output_type": "execute_result"
    }
   ],
   "source": [
    "deep_model.train(input_fn=input_fn,steps=500)"
   ]
  },
  {
   "cell_type": "code",
   "execution_count": 36,
   "metadata": {
    "collapsed": true
   },
   "outputs": [],
   "source": [
    "input_fn_eval = estimator.inputs.numpy_input_fn(x={'x':scaled_x_test},shuffle=False)"
   ]
  },
  {
   "cell_type": "code",
   "execution_count": 37,
   "metadata": {},
   "outputs": [
    {
     "name": "stdout",
     "output_type": "stream",
     "text": [
      "INFO:tensorflow:Restoring parameters from /var/folders/yh/ftwq6yz50j970hfx8k08g4880000gn/T/tmp0nu470az/model.ckpt-62\n"
     ]
    }
   ],
   "source": [
    "preds = list(deep_model.predict(input_fn=input_fn_eval))"
   ]
  },
  {
   "cell_type": "code",
   "execution_count": 40,
   "metadata": {},
   "outputs": [
    {
     "data": {
      "text/plain": [
       "[{'class_ids': array([0]),\n",
       "  'classes': array([b'0'], dtype=object),\n",
       "  'logits': array([ 0.92551291,  0.07867309, -2.07217479], dtype=float32),\n",
       "  'probabilities': array([ 0.67628336,  0.28996852,  0.03374811], dtype=float32)},\n",
       " {'class_ids': array([0]),\n",
       "  'classes': array([b'0'], dtype=object),\n",
       "  'logits': array([ 0.98835528,  0.20429853, -2.57240391], dtype=float32),\n",
       "  'probabilities': array([ 0.67341548,  0.30744791,  0.01913661], dtype=float32)},\n",
       " {'class_ids': array([2]),\n",
       "  'classes': array([b'2'], dtype=object),\n",
       "  'logits': array([-1.48677039, -0.67599446,  1.89429641], dtype=float32),\n",
       "  'probabilities': array([ 0.03062621,  0.06889834,  0.9004755 ], dtype=float32)},\n",
       " {'class_ids': array([0]),\n",
       "  'classes': array([b'0'], dtype=object),\n",
       "  'logits': array([ 2.01977229, -0.77288574, -2.47853017], dtype=float32),\n",
       "  'probabilities': array([ 0.9325    ,  0.05712324,  0.01037674], dtype=float32)},\n",
       " {'class_ids': array([2]),\n",
       "  'classes': array([b'2'], dtype=object),\n",
       "  'logits': array([-1.92517412, -0.81462777,  2.26317406], dtype=float32),\n",
       "  'probabilities': array([ 0.01429596,  0.04340277,  0.94230127], dtype=float32)},\n",
       " {'class_ids': array([1]),\n",
       "  'classes': array([b'1'], dtype=object),\n",
       "  'logits': array([-1.26231873,  0.64892536, -0.41773373], dtype=float32),\n",
       "  'probabilities': array([ 0.09912268,  0.67021763,  0.23065968], dtype=float32)},\n",
       " {'class_ids': array([2]),\n",
       "  'classes': array([b'2'], dtype=object),\n",
       "  'logits': array([-0.95749778, -0.7004137 ,  1.42513037], dtype=float32),\n",
       "  'probabilities': array([ 0.07618182,  0.09851482,  0.82530338], dtype=float32)},\n",
       " {'class_ids': array([0]),\n",
       "  'classes': array([b'0'], dtype=object),\n",
       "  'logits': array([ 1.50443709, -0.38334003, -2.29643655], dtype=float32),\n",
       "  'probabilities': array([ 0.85196346,  0.12899409,  0.01904244], dtype=float32)},\n",
       " {'class_ids': array([1]),\n",
       "  'classes': array([b'1'], dtype=object),\n",
       "  'logits': array([ 0.18374646,  1.179371  , -3.31071663], dtype=float32),\n",
       "  'probabilities': array([ 0.26761013,  0.72426391,  0.008126  ], dtype=float32)},\n",
       " {'class_ids': array([1]),\n",
       "  'classes': array([b'1'], dtype=object),\n",
       "  'logits': array([ 0.67768133,  0.89808989, -3.30529428], dtype=float32),\n",
       "  'probabilities': array([ 0.441459  ,  0.55031657,  0.00822443], dtype=float32)},\n",
       " {'class_ids': array([0]),\n",
       "  'classes': array([b'0'], dtype=object),\n",
       "  'logits': array([ 1.68255258, -0.57083863, -2.26705694], dtype=float32),\n",
       "  'probabilities': array([ 0.88943863,  0.09342877,  0.01713257], dtype=float32)},\n",
       " {'class_ids': array([1]),\n",
       "  'classes': array([b'1'], dtype=object),\n",
       "  'logits': array([-0.08819146,  0.83894253, -2.28785348], dtype=float32),\n",
       "  'probabilities': array([ 0.27486905,  0.6946643 ,  0.03046665], dtype=float32)},\n",
       " {'class_ids': array([0]),\n",
       "  'classes': array([b'0'], dtype=object),\n",
       "  'logits': array([ 0.65366191, -0.13112247, -1.35970914], dtype=float32),\n",
       "  'probabilities': array([ 0.62902743,  0.28697369,  0.08399891], dtype=float32)},\n",
       " {'class_ids': array([0]),\n",
       "  'classes': array([b'0'], dtype=object),\n",
       "  'logits': array([ 0.96933615, -0.20267966, -1.73725796], dtype=float32),\n",
       "  'probabilities': array([ 0.72647709,  0.22502042,  0.04850239], dtype=float32)},\n",
       " {'class_ids': array([0]),\n",
       "  'classes': array([b'0'], dtype=object),\n",
       "  'logits': array([ 1.90191483, -0.97975689, -1.95005035], dtype=float32),\n",
       "  'probabilities': array([ 0.92826468,  0.05202088,  0.01971445], dtype=float32)},\n",
       " {'class_ids': array([0]),\n",
       "  'classes': array([b'0'], dtype=object),\n",
       "  'logits': array([ 1.67699969, -0.73875362, -2.01036215], dtype=float32),\n",
       "  'probabilities': array([ 0.89739376,  0.0801373 ,  0.02246892], dtype=float32)},\n",
       " {'class_ids': array([1]),\n",
       "  'classes': array([b'1'], dtype=object),\n",
       "  'logits': array([-0.72715771,  1.11082971, -2.07826948], dtype=float32),\n",
       "  'probabilities': array([ 0.13257621,  0.83309287,  0.0343309 ], dtype=float32)},\n",
       " {'class_ids': array([2]),\n",
       "  'classes': array([b'2'], dtype=object),\n",
       "  'logits': array([-1.65129268, -0.06604004,  1.02361715], dtype=float32),\n",
       "  'probabilities': array([ 0.04903989,  0.23934035,  0.71161979], dtype=float32)},\n",
       " {'class_ids': array([1]),\n",
       "  'classes': array([b'1'], dtype=object),\n",
       "  'logits': array([-1.07995272,  1.58477342, -2.79195738], dtype=float32),\n",
       "  'probabilities': array([ 0.06433135,  0.92405659,  0.01161204], dtype=float32)},\n",
       " {'class_ids': array([1]),\n",
       "  'classes': array([b'1'], dtype=object),\n",
       "  'logits': array([-0.71947289,  1.52586782, -3.10594654], dtype=float32),\n",
       "  'probabilities': array([ 0.09491639,  0.89635563,  0.00872788], dtype=float32)},\n",
       " {'class_ids': array([1]),\n",
       "  'classes': array([b'1'], dtype=object),\n",
       "  'logits': array([-0.95165741,  1.12721312, -1.76350403], dtype=float32),\n",
       "  'probabilities': array([ 0.10593814,  0.84702134,  0.0470405 ], dtype=float32)},\n",
       " {'class_ids': array([2]),\n",
       "  'classes': array([b'2'], dtype=object),\n",
       "  'logits': array([-1.65494859, -0.14147455,  1.11377525], dtype=float32),\n",
       "  'probabilities': array([ 0.04655327,  0.21146753,  0.74197918], dtype=float32)},\n",
       " {'class_ids': array([2]),\n",
       "  'classes': array([b'2'], dtype=object),\n",
       "  'logits': array([-1.59581268,  0.1149464 ,  0.49382514], dtype=float32),\n",
       "  'probabilities': array([ 0.06842216,  0.37859073,  0.55298704], dtype=float32)},\n",
       " {'class_ids': array([2]),\n",
       "  'classes': array([b'2'], dtype=object),\n",
       "  'logits': array([-1.55340242, -0.71984357,  2.17798495], dtype=float32),\n",
       "  'probabilities': array([ 0.02220324,  0.05110065,  0.92669612], dtype=float32)},\n",
       " {'class_ids': array([0]),\n",
       "  'classes': array([b'0'], dtype=object),\n",
       "  'logits': array([ 1.82271159, -0.83210629, -2.0791409 ], dtype=float32),\n",
       "  'probabilities': array([ 0.91699702,  0.06447557,  0.01852742], dtype=float32)},\n",
       " {'class_ids': array([0]),\n",
       "  'classes': array([b'0'], dtype=object),\n",
       "  'logits': array([ 1.55783641, -0.41040239, -2.34071803], dtype=float32),\n",
       "  'probabilities': array([ 0.86208838,  0.12043606,  0.01747556], dtype=float32)},\n",
       " {'class_ids': array([1]),\n",
       "  'classes': array([b'1'], dtype=object),\n",
       "  'logits': array([-0.23908293,  1.13328135, -2.7878089 ], dtype=float32),\n",
       "  'probabilities': array([ 0.19909027,  0.7853446 ,  0.01556512], dtype=float32)},\n",
       " {'class_ids': array([1]),\n",
       "  'classes': array([b'1'], dtype=object),\n",
       "  'logits': array([-1.71932685,  0.87142658, -0.55796373], dtype=float32),\n",
       "  'probabilities': array([ 0.05703171,  0.76079273,  0.18217552], dtype=float32)},\n",
       " {'class_ids': array([2]),\n",
       "  'classes': array([b'2'], dtype=object),\n",
       "  'logits': array([-2.03352475, -0.37949368,  2.25661898], dtype=float32),\n",
       "  'probabilities': array([ 0.01262547,  0.06600611,  0.92136842], dtype=float32)},\n",
       " {'class_ids': array([1]),\n",
       "  'classes': array([b'1'], dtype=object),\n",
       "  'logits': array([-1.50879955,  1.13339853, -1.31087899], dtype=float32),\n",
       "  'probabilities': array([ 0.06148963,  0.86356282,  0.0749476 ], dtype=float32)},\n",
       " {'class_ids': array([2]),\n",
       "  'classes': array([b'2'], dtype=object),\n",
       "  'logits': array([-1.28109801, -0.52006888,  1.92992532], dtype=float32),\n",
       "  'probabilities': array([ 0.03578466,  0.07659628,  0.88761902], dtype=float32)},\n",
       " {'class_ids': array([2]),\n",
       "  'classes': array([b'2'], dtype=object),\n",
       "  'logits': array([-1.52098882,  0.13660416,  0.52714527], dtype=float32),\n",
       "  'probabilities': array([ 0.07142812,  0.37475955,  0.55381227], dtype=float32)},\n",
       " {'class_ids': array([2]),\n",
       "  'classes': array([b'2'], dtype=object),\n",
       "  'logits': array([-1.40998852,  0.01257483,  0.48547259], dtype=float32),\n",
       "  'probabilities': array([ 0.08472167,  0.35140339,  0.56387496], dtype=float32)},\n",
       " {'class_ids': array([0]),\n",
       "  'classes': array([b'0'], dtype=object),\n",
       "  'logits': array([ 1.28366005, -0.18274793, -2.0999577 ], dtype=float32),\n",
       "  'probabilities': array([ 0.79071558,  0.18245988,  0.02682463], dtype=float32)},\n",
       " {'class_ids': array([0]),\n",
       "  'classes': array([b'0'], dtype=object),\n",
       "  'logits': array([ 0.78480083,  0.19845703, -2.08588386], dtype=float32),\n",
       "  'probabilities': array([ 0.6199559 ,  0.34491727,  0.03512678], dtype=float32)},\n",
       " {'class_ids': array([0]),\n",
       "  'classes': array([b'0'], dtype=object),\n",
       "  'logits': array([ 1.52725613, -0.58797818, -1.98527861], dtype=float32),\n",
       "  'probabilities': array([ 0.86924303,  0.10483507,  0.0259219 ], dtype=float32)},\n",
       " {'class_ids': array([0]),\n",
       "  'classes': array([b'0'], dtype=object),\n",
       "  'logits': array([ 1.44715321, -0.32709894, -2.17842031], dtype=float32),\n",
       "  'probabilities': array([ 0.83594978,  0.14178564,  0.02226453], dtype=float32)},\n",
       " {'class_ids': array([1]),\n",
       "  'classes': array([b'1'], dtype=object),\n",
       "  'logits': array([-0.15662903,  0.48328319, -1.00768888], dtype=float32),\n",
       "  'probabilities': array([ 0.30090782,  0.57061589,  0.12847628], dtype=float32)},\n",
       " {'class_ids': array([1]),\n",
       "  'classes': array([b'1'], dtype=object),\n",
       "  'logits': array([-0.23413146,  1.07037592, -2.62920785], dtype=float32),\n",
       "  'probabilities': array([ 0.20933472,  0.77158117,  0.01908415], dtype=float32)},\n",
       " {'class_ids': array([2]),\n",
       "  'classes': array([b'2'], dtype=object),\n",
       "  'logits': array([-2.42950892, -0.50790197,  2.49433994], dtype=float32),\n",
       "  'probabilities': array([ 0.00687933,  0.04699913,  0.94612157], dtype=float32)},\n",
       " {'class_ids': array([1]),\n",
       "  'classes': array([b'1'], dtype=object),\n",
       "  'logits': array([-1.45546186,  1.48788011, -1.98312783], dtype=float32),\n",
       "  'probabilities': array([ 0.0486165 ,  0.9227007 ,  0.02868279], dtype=float32)},\n",
       " {'class_ids': array([0]),\n",
       "  'classes': array([b'0'], dtype=object),\n",
       "  'logits': array([ 1.47635865, -0.20646361, -2.5083735 ], dtype=float32),\n",
       "  'probabilities': array([ 0.83025718,  0.15430224,  0.01544064], dtype=float32)},\n",
       " {'class_ids': array([0]),\n",
       "  'classes': array([b'0'], dtype=object),\n",
       "  'logits': array([ 1.47057307, -0.37085858, -2.07706857], dtype=float32),\n",
       "  'probabilities': array([ 0.84218848,  0.13356286,  0.02424868], dtype=float32)},\n",
       " {'class_ids': array([1]),\n",
       "  'classes': array([b'1'], dtype=object),\n",
       "  'logits': array([ 0.72981751,  0.76949102, -3.3295126 ], dtype=float32),\n",
       "  'probabilities': array([ 0.48597202,  0.50563979,  0.00838816], dtype=float32)},\n",
       " {'class_ids': array([2]),\n",
       "  'classes': array([b'2'], dtype=object),\n",
       "  'logits': array([-2.12861156, -0.12283641,  1.50916815], dtype=float32),\n",
       "  'probabilities': array([ 0.02153353,  0.16003402,  0.81843245], dtype=float32)},\n",
       " {'class_ids': array([1]),\n",
       "  'classes': array([b'1'], dtype=object),\n",
       "  'logits': array([-0.30727953,  1.2366029 , -2.81276608], dtype=float32),\n",
       "  'probabilities': array([ 0.17347945,  0.81235832,  0.01416215], dtype=float32)},\n",
       " {'class_ids': array([1]),\n",
       "  'classes': array([b'1'], dtype=object),\n",
       "  'logits': array([-0.69513714,  1.61344683, -3.35787964], dtype=float32),\n",
       "  'probabilities': array([ 0.08984786,  0.90388465,  0.00626749], dtype=float32)},\n",
       " {'class_ids': array([2]),\n",
       "  'classes': array([b'2'], dtype=object),\n",
       "  'logits': array([-1.08427489, -0.28596398,  1.24395275], dtype=float32),\n",
       "  'probabilities': array([ 0.07417558,  0.16480216,  0.76102221], dtype=float32)},\n",
       " {'class_ids': array([2]),\n",
       "  'classes': array([b'2'], dtype=object),\n",
       "  'logits': array([-1.61547482, -0.49335214,  2.18362403], dtype=float32),\n",
       "  'probabilities': array([ 0.02052027,  0.0630253 ,  0.91645443], dtype=float32)},\n",
       " {'class_ids': array([1]),\n",
       "  'classes': array([b'1'], dtype=object),\n",
       "  'logits': array([ 0.3075043 ,  1.1030302 , -3.39812827], dtype=float32),\n",
       "  'probabilities': array([ 0.30862382,  0.68378878,  0.00758741], dtype=float32)},\n",
       " {'class_ids': array([0]),\n",
       "  'classes': array([b'0'], dtype=object),\n",
       "  'logits': array([ 1.6593951 , -0.47839978, -2.32762456], dtype=float32),\n",
       "  'probabilities': array([ 0.87991804,  0.10375515,  0.01632682], dtype=float32)},\n",
       " {'class_ids': array([1]),\n",
       "  'classes': array([b'1'], dtype=object),\n",
       "  'logits': array([-1.33654821,  0.7993049 , -0.79890072], dtype=float32),\n",
       "  'probabilities': array([ 0.08947553,  0.75734454,  0.15317985], dtype=float32)},\n",
       " {'class_ids': array([1]),\n",
       "  'classes': array([b'1'], dtype=object),\n",
       "  'logits': array([-1.12908006,  1.20797002, -1.73500955], dtype=float32),\n",
       "  'probabilities': array([ 0.0840603 ,  0.87007922,  0.04586053], dtype=float32)},\n",
       " {'class_ids': array([0]),\n",
       "  'classes': array([b'0'], dtype=object),\n",
       "  'logits': array([ 2.07690144, -0.84025067, -2.49812436], dtype=float32),\n",
       "  'probabilities': array([ 0.93950212,  0.05081532,  0.00968254], dtype=float32)}]"
      ]
     },
     "execution_count": 40,
     "metadata": {},
     "output_type": "execute_result"
    }
   ],
   "source": [
    "preds"
   ]
  },
  {
   "cell_type": "code",
   "execution_count": 42,
   "metadata": {},
   "outputs": [],
   "source": [
    "predictions = [p['class_ids'][0] for p in preds]"
   ]
  },
  {
   "cell_type": "code",
   "execution_count": 45,
   "metadata": {},
   "outputs": [
    {
     "data": {
      "text/plain": [
       "[0,\n",
       " 0,\n",
       " 2,\n",
       " 0,\n",
       " 2,\n",
       " 1,\n",
       " 2,\n",
       " 0,\n",
       " 1,\n",
       " 1,\n",
       " 0,\n",
       " 1,\n",
       " 0,\n",
       " 0,\n",
       " 0,\n",
       " 0,\n",
       " 1,\n",
       " 2,\n",
       " 1,\n",
       " 1,\n",
       " 1,\n",
       " 2,\n",
       " 2,\n",
       " 2,\n",
       " 0,\n",
       " 0,\n",
       " 1,\n",
       " 1,\n",
       " 2,\n",
       " 1,\n",
       " 2,\n",
       " 2,\n",
       " 2,\n",
       " 0,\n",
       " 0,\n",
       " 0,\n",
       " 0,\n",
       " 1,\n",
       " 1,\n",
       " 2,\n",
       " 1,\n",
       " 0,\n",
       " 0,\n",
       " 1,\n",
       " 2,\n",
       " 1,\n",
       " 1,\n",
       " 2,\n",
       " 2,\n",
       " 1,\n",
       " 0,\n",
       " 1,\n",
       " 1,\n",
       " 0]"
      ]
     },
     "execution_count": 45,
     "metadata": {},
     "output_type": "execute_result"
    }
   ],
   "source": [
    "predictions"
   ]
  },
  {
   "cell_type": "code",
   "execution_count": 48,
   "metadata": {
    "collapsed": true
   },
   "outputs": [],
   "source": [
    "from sklearn.metrics import classification_report"
   ]
  },
  {
   "cell_type": "code",
   "execution_count": 49,
   "metadata": {},
   "outputs": [
    {
     "name": "stdout",
     "output_type": "stream",
     "text": [
      "             precision    recall  f1-score   support\n",
      "\n",
      "          0       1.00      1.00      1.00        19\n",
      "          1       1.00      0.91      0.95        22\n",
      "          2       0.87      1.00      0.93        13\n",
      "\n",
      "avg / total       0.97      0.96      0.96        54\n",
      "\n"
     ]
    }
   ],
   "source": [
    "print(classification_report(y_test,predictions))"
   ]
  },
  {
   "cell_type": "code",
   "execution_count": null,
   "metadata": {
    "collapsed": true
   },
   "outputs": [],
   "source": []
  },
  {
   "cell_type": "code",
   "execution_count": null,
   "metadata": {
    "collapsed": true
   },
   "outputs": [],
   "source": []
  },
  {
   "cell_type": "code",
   "execution_count": null,
   "metadata": {
    "collapsed": true
   },
   "outputs": [],
   "source": []
  },
  {
   "cell_type": "code",
   "execution_count": null,
   "metadata": {
    "collapsed": true
   },
   "outputs": [],
   "source": []
  },
  {
   "cell_type": "code",
   "execution_count": null,
   "metadata": {
    "collapsed": true
   },
   "outputs": [],
   "source": []
  },
  {
   "cell_type": "code",
   "execution_count": null,
   "metadata": {
    "collapsed": true
   },
   "outputs": [],
   "source": []
  },
  {
   "cell_type": "code",
   "execution_count": null,
   "metadata": {
    "collapsed": true
   },
   "outputs": [],
   "source": []
  },
  {
   "cell_type": "code",
   "execution_count": null,
   "metadata": {
    "collapsed": true
   },
   "outputs": [],
   "source": []
  }
 ],
 "metadata": {
  "kernelspec": {
   "display_name": "Python 3",
   "language": "python",
   "name": "python3"
  },
  "language_info": {
   "codemirror_mode": {
    "name": "ipython",
    "version": 3
   },
   "file_extension": ".py",
   "mimetype": "text/x-python",
   "name": "python",
   "nbconvert_exporter": "python",
   "pygments_lexer": "ipython3",
   "version": "3.6.3"
  }
 },
 "nbformat": 4,
 "nbformat_minor": 2
}
